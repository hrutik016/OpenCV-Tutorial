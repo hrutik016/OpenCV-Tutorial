{
 "cells": [
  {
   "cell_type": "markdown",
   "id": "9c84d022",
   "metadata": {},
   "source": [
    "# OpenCV Tutorial"
   ]
  },
  {
   "cell_type": "code",
   "execution_count": 1,
   "id": "1239c7e0",
   "metadata": {
    "ExecuteTime": {
     "end_time": "2021-08-17T17:36:07.633294Z",
     "start_time": "2021-08-17T17:36:07.496531Z"
    }
   },
   "outputs": [],
   "source": [
    "import cv2\n",
    "import numpy as np"
   ]
  },
  {
   "cell_type": "code",
   "execution_count": 2,
   "id": "e0aba0db",
   "metadata": {
    "ExecuteTime": {
     "end_time": "2021-08-17T17:36:07.696577Z",
     "start_time": "2021-08-17T17:36:07.635187Z"
    }
   },
   "outputs": [],
   "source": [
    "img = cv2.imread(r'D:\\hrutik\\Wallpapers\\DIP\\p8.jpg')\n",
    "gray_img = cv2.cvtColor(img, cv2.COLOR_BGR2GRAY)\n",
    "\n",
    "gray_img = np.float32(gray_img)"
   ]
  },
  {
   "cell_type": "markdown",
   "id": "92451296",
   "metadata": {},
   "source": [
    "### Detecting Corner"
   ]
  },
  {
   "cell_type": "code",
   "execution_count": 3,
   "id": "56f6c8c6",
   "metadata": {
    "ExecuteTime": {
     "end_time": "2021-08-17T17:36:36.642183Z",
     "start_time": "2021-08-17T17:36:07.698609Z"
    }
   },
   "outputs": [],
   "source": [
    "corners = cv2.goodFeaturesToTrack(gray_img, 100, 0.01, 10)\n",
    "\n",
    "corners = np.int0(corners)\n",
    "\n",
    "for corner in corners:\n",
    "    x, y = corner.ravel()\n",
    "    cv2.circle(img, (x, y), 3, 255, -1)\n",
    "cv2.imshow('Coner detection', img)\n",
    "cv2.waitKey(0)\n",
    "cv2.destroyAllWindows()"
   ]
  },
  {
   "cell_type": "code",
   "execution_count": null,
   "id": "5b7b9db2",
   "metadata": {},
   "outputs": [],
   "source": []
  }
 ],
 "metadata": {
  "kernelspec": {
   "display_name": "Python 3",
   "language": "python",
   "name": "python3"
  },
  "language_info": {
   "codemirror_mode": {
    "name": "ipython",
    "version": 3
   },
   "file_extension": ".py",
   "mimetype": "text/x-python",
   "name": "python",
   "nbconvert_exporter": "python",
   "pygments_lexer": "ipython3",
   "version": "3.8.8"
  }
 },
 "nbformat": 4,
 "nbformat_minor": 5
}
