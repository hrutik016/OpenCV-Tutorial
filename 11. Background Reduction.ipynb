{
 "cells": [
  {
   "cell_type": "markdown",
   "id": "b9043fb7",
   "metadata": {},
   "source": [
    "# OpenCV Tutorial"
   ]
  },
  {
   "cell_type": "code",
   "execution_count": 2,
   "id": "784f5309",
   "metadata": {
    "ExecuteTime": {
     "end_time": "2021-08-18T15:32:07.852913Z",
     "start_time": "2021-08-18T15:32:07.424746Z"
    }
   },
   "outputs": [],
   "source": [
    "import cv2\n",
    "import numpy as np"
   ]
  },
  {
   "cell_type": "markdown",
   "id": "c2f377bf",
   "metadata": {},
   "source": [
    "### Background Reduction"
   ]
  },
  {
   "cell_type": "code",
   "execution_count": 3,
   "id": "069d959e",
   "metadata": {
    "ExecuteTime": {
     "end_time": "2021-08-18T15:32:38.553516Z",
     "start_time": "2021-08-18T15:32:09.081913Z"
    }
   },
   "outputs": [],
   "source": [
    "cap = cv2.VideoCapture(0)\n",
    "\n",
    "fgbg = cv2.createBackgroundSubtractorMOG2()\n",
    "\n",
    "while True:\n",
    "    ret, frame = cap.read()\n",
    "    fgmask = fgbg.apply(frame)\n",
    "    \n",
    "    cv2.imshow('original', frame)\n",
    "    cv2.imshow('fgmask', fgmask)\n",
    "    \n",
    "    if cv2.waitKey(1) & 0xFF == ord('q'):\n",
    "        break\n",
    "        \n",
    "cap.release()\n",
    "cv2.destroyAllWindows()"
   ]
  },
  {
   "cell_type": "code",
   "execution_count": null,
   "id": "6c777f53",
   "metadata": {},
   "outputs": [],
   "source": []
  }
 ],
 "metadata": {
  "kernelspec": {
   "display_name": "Python 3",
   "language": "python",
   "name": "python3"
  },
  "language_info": {
   "codemirror_mode": {
    "name": "ipython",
    "version": 3
   },
   "file_extension": ".py",
   "mimetype": "text/x-python",
   "name": "python",
   "nbconvert_exporter": "python",
   "pygments_lexer": "ipython3",
   "version": "3.8.8"
  }
 },
 "nbformat": 4,
 "nbformat_minor": 5
}
