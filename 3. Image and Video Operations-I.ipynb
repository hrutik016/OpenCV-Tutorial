{
 "cells": [
  {
   "cell_type": "markdown",
   "id": "c65a8976",
   "metadata": {},
   "source": [
    "# OpenCV Tutorial"
   ]
  },
  {
   "cell_type": "code",
   "execution_count": 1,
   "id": "e530a53c",
   "metadata": {
    "ExecuteTime": {
     "end_time": "2021-08-14T12:54:19.483958Z",
     "start_time": "2021-08-14T12:54:19.308480Z"
    }
   },
   "outputs": [],
   "source": [
    "import numpy as np\n",
    "import cv2"
   ]
  },
  {
   "cell_type": "code",
   "execution_count": 2,
   "id": "3096f430",
   "metadata": {
    "ExecuteTime": {
     "end_time": "2021-08-14T12:54:22.814061Z",
     "start_time": "2021-08-14T12:54:19.484953Z"
    }
   },
   "outputs": [],
   "source": [
    "img = cv2.imread(r'D:\\hrutik\\Wallpapers\\DIP\\4.jpg', 1)\n",
    "\n",
    "cv2.imshow('image', img)\n",
    "cv2.waitKey(0)\n",
    "cv2.destroyAllWindows()"
   ]
  },
  {
   "cell_type": "code",
   "execution_count": 3,
   "id": "c454e2f7",
   "metadata": {
    "ExecuteTime": {
     "end_time": "2021-08-14T12:54:22.830024Z",
     "start_time": "2021-08-14T12:54:22.819046Z"
    }
   },
   "outputs": [
    {
     "name": "stdout",
     "output_type": "stream",
     "text": [
      "[127 159 178]\n"
     ]
    }
   ],
   "source": [
    "#printing pizel value of specific location\n",
    "\n",
    "px = img[150, 150]\n",
    "print(px)"
   ]
  },
  {
   "cell_type": "code",
   "execution_count": 4,
   "id": "da7bc344",
   "metadata": {
    "ExecuteTime": {
     "end_time": "2021-08-14T12:54:22.845973Z",
     "start_time": "2021-08-14T12:54:22.833007Z"
    }
   },
   "outputs": [
    {
     "name": "stdout",
     "output_type": "stream",
     "text": [
      "[255 255 255]\n"
     ]
    }
   ],
   "source": [
    "#we can also modify the pixel value\n",
    "\n",
    "img[150, 150] = [255, 255, 255]\n",
    "px = img[150, 150]\n",
    "print(px)"
   ]
  },
  {
   "cell_type": "markdown",
   "id": "84508127",
   "metadata": {},
   "source": [
    "### ROI - Region of Image "
   ]
  },
  {
   "cell_type": "code",
   "execution_count": 5,
   "id": "d8e40343",
   "metadata": {
    "ExecuteTime": {
     "end_time": "2021-08-14T12:54:22.860996Z",
     "start_time": "2021-08-14T12:54:22.847969Z"
    }
   },
   "outputs": [
    {
     "name": "stdout",
     "output_type": "stream",
     "text": [
      "[[[255 255 255]\n",
      "  [127 159 178]\n",
      "  [128 158 177]\n",
      "  ...\n",
      "  [153 181 192]\n",
      "  [154 182 193]\n",
      "  [154 182 193]]\n",
      "\n",
      " [[127 159 178]\n",
      "  [127 159 178]\n",
      "  [128 158 177]\n",
      "  ...\n",
      "  [153 181 192]\n",
      "  [154 182 193]\n",
      "  [154 182 193]]\n",
      "\n",
      " [[126 159 175]\n",
      "  [126 159 175]\n",
      "  [128 158 175]\n",
      "  ...\n",
      "  [153 181 192]\n",
      "  [153 181 192]\n",
      "  [154 182 193]]\n",
      "\n",
      " ...\n",
      "\n",
      " [[118 153 173]\n",
      "  [116 151 171]\n",
      "  [121 156 176]\n",
      "  ...\n",
      "  [156 185 199]\n",
      "  [157 187 198]\n",
      "  [158 188 199]]\n",
      "\n",
      " [[120 153 173]\n",
      "  [119 152 172]\n",
      "  [123 156 176]\n",
      "  ...\n",
      "  [157 186 200]\n",
      "  [157 187 198]\n",
      "  [158 188 199]]\n",
      "\n",
      " [[120 153 173]\n",
      "  [122 155 175]\n",
      "  [123 156 176]\n",
      "  ...\n",
      "  [158 187 201]\n",
      "  [159 189 200]\n",
      "  [159 189 200]]]\n"
     ]
    }
   ],
   "source": [
    "roi = img[150:200, 150:200]\n",
    "print(roi)"
   ]
  },
  {
   "cell_type": "code",
   "execution_count": 6,
   "id": "f306d728",
   "metadata": {
    "ExecuteTime": {
     "end_time": "2021-08-14T12:54:24.501763Z",
     "start_time": "2021-08-14T12:54:22.864924Z"
    }
   },
   "outputs": [],
   "source": [
    "# changing pixel value of a certain region in image\n",
    "\n",
    "img[150:200, 150:200] = [255, 255, 255]\n",
    "\n",
    "cv2.imshow('image', img)\n",
    "cv2.waitKey(0)\n",
    "cv2.destroyAllWindows()"
   ]
  },
  {
   "cell_type": "code",
   "execution_count": 7,
   "id": "b60d1fc4",
   "metadata": {
    "ExecuteTime": {
     "end_time": "2021-08-14T12:54:25.121053Z",
     "start_time": "2021-08-14T12:54:24.504759Z"
    }
   },
   "outputs": [],
   "source": [
    "#cut and paste roi\n",
    "\n",
    "image_cut = img[200:400, 100:600]\n",
    "img[0:200, 0:500] = image_cut\n",
    "\n",
    "cv2.imshow('image', img)\n",
    "cv2.waitKey(0)\n",
    "cv2.destroyAllWindows()"
   ]
  },
  {
   "cell_type": "markdown",
   "id": "497c14a6",
   "metadata": {},
   "source": [
    "## Some more image functions"
   ]
  },
  {
   "cell_type": "code",
   "execution_count": 8,
   "id": "4e120ea0",
   "metadata": {
    "ExecuteTime": {
     "end_time": "2021-08-14T12:54:26.254645Z",
     "start_time": "2021-08-14T12:54:25.124014Z"
    }
   },
   "outputs": [],
   "source": [
    "img_1 = cv2.imread(r'D:\\hrutik\\Wallpapers\\DIP\\31.jpg', 1)\n",
    "img_2 = cv2.imread(r'D:\\hrutik\\Wallpapers\\DIP\\8.png', 1)\n",
    "\n",
    "#add = img_1 + img_2\n",
    "#this added the images by their pixel values\n",
    "#suppose if the value are\n",
    "# [100, 200, 200] + [100, 111, 90]\n",
    "# gives us [200, 311, 290] and coverts it to [200, 255, 255]\n",
    "\n",
    "add = cv2.add(img_1, img_2)\n",
    "\n",
    "cv2.imshow('add', add)\n",
    "cv2.waitKey(0)\n",
    "cv2.destroyAllWindows()"
   ]
  },
  {
   "cell_type": "code",
   "execution_count": 9,
   "id": "75b49994",
   "metadata": {
    "ExecuteTime": {
     "end_time": "2021-08-14T12:54:27.377300Z",
     "start_time": "2021-08-14T12:54:26.256637Z"
    }
   },
   "outputs": [],
   "source": [
    "#adding both images through weighted\n",
    "\n",
    "weighted = cv2.addWeighted(img_1, 0.7, img_2, 0.3, 0)\n",
    "cv2.imshow('weighted', weighted)\n",
    "cv2.waitKey(0)\n",
    "cv2.destroyAllWindows()"
   ]
  },
  {
   "cell_type": "code",
   "execution_count": 10,
   "id": "782dbda9",
   "metadata": {
    "ExecuteTime": {
     "end_time": "2021-08-14T12:54:30.865140Z",
     "start_time": "2021-08-14T12:54:27.380286Z"
    }
   },
   "outputs": [],
   "source": [
    "#thresholding image\n",
    "\n",
    "img_1 = cv2.imread(r'D:\\hrutik\\Wallpapers\\DIP\\31.jpg', 1)\n",
    "img_2 = cv2.imread(r'D:\\hrutik\\Wallpapers\\DIP\\p3.png', 1)\n",
    "\n",
    "rows, cols, channels = img_2.shape\n",
    "roi = img_1[0:rows, 0:cols]       #getting in no of rows and cols of image2 \n",
    "\n",
    "#converting it into grayscale image\n",
    "img2gray = cv2.cvtColor(img_2, cv2.COLOR_BGR2GRAY)\n",
    "\n",
    "#thresholding value\n",
    "ret, mask = cv2.threshold(img2gray, 220, 255, cv2.THRESH_BINARY_INV)\n",
    "\n",
    "cv2.imshow('mask', mask)\n",
    "cv2.waitKey(0)\n",
    "cv2.destroyAllWindows()"
   ]
  },
  {
   "cell_type": "code",
   "execution_count": 11,
   "id": "87448a8b",
   "metadata": {
    "ExecuteTime": {
     "end_time": "2021-08-14T12:54:48.805449Z",
     "start_time": "2021-08-14T12:54:30.867117Z"
    }
   },
   "outputs": [],
   "source": [
    "#croping image and adding adding it on first image\n",
    "\n",
    "img_1 = cv2.imread(r'D:\\hrutik\\Wallpapers\\DIP\\31.jpg', 1)\n",
    "img_2 = cv2.imread(r'D:\\hrutik\\Wallpapers\\DIP\\p3.png', 1)\n",
    "\n",
    "# gettin in image2 size\n",
    "rows, cols, channels = img_2.shape\n",
    "roi = img_1[0:rows, 0:cols]\n",
    "\n",
    "img2gray = cv2.cvtColor(img_2, cv2.COLOR_BGR2GRAY)\n",
    "ret, mask = cv2.threshold(img2gray, 220, 255, cv2.THRESH_BINARY_INV)\n",
    "\n",
    "#appling bitwise operation on image to create mask\n",
    "mask_inv = cv2.bitwise_not(mask)\n",
    "\n",
    "img1_bg = cv2.bitwise_and(roi, roi, mask=mask_inv)\n",
    "img2_fg = cv2.bitwise_and(img_2, img_2, mask=mask)\n",
    "\n",
    "dst = cv2.add(img1_bg, img2_fg)\n",
    "img_1[0:rows, 0:cols] = dst\n",
    "\n",
    "cv2.imshow('res', img_1)\n",
    "cv2.imshow('mask_inv', mask_inv)\n",
    "cv2.imshow('img1 bg', img1_bg)\n",
    "cv2.imshow('img2 fg', img2_fg)\n",
    "cv2.imshow('dst', dst)\n",
    "cv2.waitKey(0)\n",
    "cv2.destroyAllWindows()"
   ]
  },
  {
   "cell_type": "code",
   "execution_count": null,
   "id": "107a07f4",
   "metadata": {},
   "outputs": [],
   "source": []
  }
 ],
 "metadata": {
  "kernelspec": {
   "display_name": "Python 3",
   "language": "python",
   "name": "python3"
  },
  "language_info": {
   "codemirror_mode": {
    "name": "ipython",
    "version": 3
   },
   "file_extension": ".py",
   "mimetype": "text/x-python",
   "name": "python",
   "nbconvert_exporter": "python",
   "pygments_lexer": "ipython3",
   "version": "3.8.8"
  }
 },
 "nbformat": 4,
 "nbformat_minor": 5
}
