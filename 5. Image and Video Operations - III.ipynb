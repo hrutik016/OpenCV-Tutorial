{
 "cells": [
  {
   "cell_type": "markdown",
   "id": "85f5702e",
   "metadata": {},
   "source": [
    "# OpenCV Tutorial"
   ]
  },
  {
   "cell_type": "code",
   "execution_count": 1,
   "id": "01ae595f",
   "metadata": {
    "ExecuteTime": {
     "end_time": "2021-08-15T08:57:10.370063Z",
     "start_time": "2021-08-15T08:57:10.158558Z"
    }
   },
   "outputs": [],
   "source": [
    "import cv2\n",
    "import numpy as np"
   ]
  },
  {
   "cell_type": "markdown",
   "id": "6933d7b3",
   "metadata": {},
   "source": [
    "## Morphological Transformation"
   ]
  },
  {
   "cell_type": "markdown",
   "id": "bb0fca1a",
   "metadata": {},
   "source": [
    "### Apllying Erosion"
   ]
  },
  {
   "cell_type": "code",
   "execution_count": 2,
   "id": "a20a7cca",
   "metadata": {
    "ExecuteTime": {
     "end_time": "2021-08-15T08:57:25.450278Z",
     "start_time": "2021-08-15T08:57:10.372063Z"
    }
   },
   "outputs": [],
   "source": [
    "cap = cv2.VideoCapture(0)\n",
    "\n",
    "while True:\n",
    "    _, frame = cap.read()\n",
    "    hsv = cv2.cvtColor(frame, cv2.COLOR_BGR2HSV)\n",
    "    \n",
    "    #set the values here to apply specific filter, so specific colour is passed and seen.\n",
    "    #hsv hue sat value\n",
    "    lower_red = np.array([10, 10, 10])\n",
    "    upper_red = np.array([150, 175, 175])\n",
    "    \n",
    "    #creating mask\n",
    "    mask = cv2.inRange(hsv, lower_red, upper_red)\n",
    "    res = cv2.bitwise_and(frame, frame, mask=mask)\n",
    "    \n",
    "    kernel = np.ones((5,5), np.uint8)\n",
    "    erosion = cv2.erode(mask, kernel, iterations=1)\n",
    "                         \n",
    "    cv2.imshow('frame', frame)\n",
    "    cv2.imshow('res', res)\n",
    "    cv2.imshow('erosion', erosion)\n",
    "    \n",
    "    if cv2.waitKey(1) & 0xFF == ord('q'):\n",
    "        break\n",
    "        \n",
    "cap.release()\n",
    "cv2.destroyAllWindows()"
   ]
  },
  {
   "cell_type": "markdown",
   "id": "e74556db",
   "metadata": {},
   "source": [
    "### Applying Dilation"
   ]
  },
  {
   "cell_type": "code",
   "execution_count": 3,
   "id": "4f315a16",
   "metadata": {
    "ExecuteTime": {
     "end_time": "2021-08-15T08:57:39.104879Z",
     "start_time": "2021-08-15T08:57:25.460253Z"
    }
   },
   "outputs": [],
   "source": [
    "cap = cv2.VideoCapture(0)\n",
    "\n",
    "while True:\n",
    "    _, frame = cap.read()\n",
    "    hsv = cv2.cvtColor(frame, cv2.COLOR_BGR2HSV)\n",
    "    \n",
    "    #set the values here to apply specific filter, so specific colour is passed and seen.\n",
    "    #hsv hue sat value\n",
    "    lower_red = np.array([10, 10, 10])\n",
    "    upper_red = np.array([150, 175, 175])\n",
    "    \n",
    "    #creating mask\n",
    "    mask = cv2.inRange(hsv, lower_red, upper_red)\n",
    "    res = cv2.bitwise_and(frame, frame, mask=mask)\n",
    "    \n",
    "    kernel = np.ones((5,5), np.uint8)\n",
    "    dilation = cv2.dilate(mask, kernel, iterations=1)\n",
    "                         \n",
    "    cv2.imshow('frame', frame)\n",
    "    cv2.imshow('res', res)\n",
    "    cv2.imshow('dilation', dilation)\n",
    "    \n",
    "    if cv2.waitKey(1) & 0xFF == ord('q'):\n",
    "        break\n",
    "        \n",
    "cap.release()\n",
    "cv2.destroyAllWindows()"
   ]
  },
  {
   "cell_type": "code",
   "execution_count": 4,
   "id": "c043ddbc",
   "metadata": {
    "ExecuteTime": {
     "end_time": "2021-08-15T08:57:59.284339Z",
     "start_time": "2021-08-15T08:57:39.109864Z"
    }
   },
   "outputs": [],
   "source": [
    "# erosion and dilation side by side\n",
    "\n",
    "cap = cv2.VideoCapture(0)\n",
    "\n",
    "while True:\n",
    "    _, frame = cap.read()\n",
    "    hsv = cv2.cvtColor(frame, cv2.COLOR_BGR2HSV)\n",
    "    \n",
    "    #set the values here to apply specific filter, so specific colour is passed and seen.\n",
    "    #hsv hue sat value\n",
    "    lower_red = np.array([10, 10, 10])\n",
    "    upper_red = np.array([150, 175, 175])\n",
    "    \n",
    "    #creating mask\n",
    "    mask = cv2.inRange(hsv, lower_red, upper_red)\n",
    "    res = cv2.bitwise_and(frame, frame, mask=mask)\n",
    "    \n",
    "    kernel = np.ones((5,5), np.uint8)\n",
    "    erosion = cv2.erode(mask, kernel, iterations=1)\n",
    "    dilation = cv2.dilate(mask, kernel, iterations=1)\n",
    "                         \n",
    "    #cv2.imshow('frame', frame)\n",
    "    #cv2.imshow('res', res)\n",
    "    cv2.imshow('erosion', erosion)\n",
    "    cv2.imshow('dilation', dilation)\n",
    "    \n",
    "    if cv2.waitKey(1) & 0xFF == ord('q'):\n",
    "        break\n",
    "        \n",
    "cap.release()\n",
    "cv2.destroyAllWindows()"
   ]
  },
  {
   "cell_type": "markdown",
   "id": "64806875",
   "metadata": {},
   "source": [
    "### Opening & Closing\n",
    "##### Opening - remove stuff from bg / false positive\n",
    "##### Closing - false negative"
   ]
  },
  {
   "cell_type": "code",
   "execution_count": 5,
   "id": "86d98e75",
   "metadata": {
    "ExecuteTime": {
     "end_time": "2021-08-15T08:58:03.861562Z",
     "start_time": "2021-08-15T08:57:59.288331Z"
    }
   },
   "outputs": [],
   "source": [
    "cap = cv2.VideoCapture(0)\n",
    "\n",
    "while True:\n",
    "    _, frame = cap.read()\n",
    "    hsv = cv2.cvtColor(frame, cv2.COLOR_BGR2HSV)\n",
    "    \n",
    "    #set the values here to apply specific filter, so specific colour is passed and seen.\n",
    "    #hsv hue sat value\n",
    "    lower_red = np.array([10, 10, 10])\n",
    "    upper_red = np.array([150, 175, 175])\n",
    "    \n",
    "    #creating mask\n",
    "    mask = cv2.inRange(hsv, lower_red, upper_red)\n",
    "    res = cv2.bitwise_and(frame, frame, mask=mask)\n",
    "    \n",
    "    kernel = np.ones((5,5), np.uint8)\n",
    "    \n",
    "    opening = cv2.morphologyEx(mask, cv2.MORPH_OPEN, kernel)\n",
    "    closing = cv2.morphologyEx(mask, cv2.MORPH_CLOSE, kernel)\n",
    "                         \n",
    "    cv2.imshow('opening', opening)\n",
    "    cv2.imshow('closing', closing)\n",
    "    \n",
    "    if cv2.waitKey(1) & 0xFF == ord('q'):\n",
    "        break\n",
    "        \n",
    "cap.release()\n",
    "cv2.destroyAllWindows()"
   ]
  },
  {
   "cell_type": "code",
   "execution_count": null,
   "id": "6109deec",
   "metadata": {},
   "outputs": [],
   "source": []
  },
  {
   "cell_type": "code",
   "execution_count": null,
   "id": "2cfb6a31",
   "metadata": {},
   "outputs": [],
   "source": []
  },
  {
   "cell_type": "code",
   "execution_count": null,
   "id": "61b5769e",
   "metadata": {},
   "outputs": [],
   "source": []
  }
 ],
 "metadata": {
  "kernelspec": {
   "display_name": "Python 3",
   "language": "python",
   "name": "python3"
  },
  "language_info": {
   "codemirror_mode": {
    "name": "ipython",
    "version": 3
   },
   "file_extension": ".py",
   "mimetype": "text/x-python",
   "name": "python",
   "nbconvert_exporter": "python",
   "pygments_lexer": "ipython3",
   "version": "3.8.8"
  }
 },
 "nbformat": 4,
 "nbformat_minor": 5
}
