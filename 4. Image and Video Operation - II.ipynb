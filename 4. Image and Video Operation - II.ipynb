{
 "cells": [
  {
   "cell_type": "markdown",
   "id": "74d6e5c0",
   "metadata": {
    "ExecuteTime": {
     "end_time": "2021-08-14T17:14:53.798659Z",
     "start_time": "2021-08-14T17:14:53.331473Z"
    }
   },
   "source": [
    "# OpenCV Tutorial"
   ]
  },
  {
   "cell_type": "markdown",
   "id": "c54405ef",
   "metadata": {},
   "source": [
    "### Applying threshold"
   ]
  },
  {
   "cell_type": "code",
   "execution_count": 1,
   "id": "2bf601d4",
   "metadata": {
    "ExecuteTime": {
     "end_time": "2021-08-15T05:05:43.266492Z",
     "start_time": "2021-08-15T05:05:43.120616Z"
    }
   },
   "outputs": [],
   "source": [
    "import cv2\n",
    "import numpy as np"
   ]
  },
  {
   "cell_type": "code",
   "execution_count": 2,
   "id": "20a7ad1e",
   "metadata": {
    "ExecuteTime": {
     "end_time": "2021-08-15T05:05:49.256667Z",
     "start_time": "2021-08-15T05:05:43.268490Z"
    }
   },
   "outputs": [],
   "source": [
    "img = cv2.imread(r'D:\\hrutik\\Wallpapers\\DIP\\p4.jpg', 1)\n",
    "\n",
    "cv2.imshow('image', img)\n",
    "cv2.waitKey(0)\n",
    "cv2.destroyAllWindows()"
   ]
  },
  {
   "cell_type": "code",
   "execution_count": 3,
   "id": "20ad0dfc",
   "metadata": {
    "ExecuteTime": {
     "end_time": "2021-08-15T05:05:51.694651Z",
     "start_time": "2021-08-15T05:05:49.258664Z"
    }
   },
   "outputs": [],
   "source": [
    "#applying threshold\n",
    "\n",
    "retval, threshold = cv2.threshold(img, 12, 255, cv2.THRESH_BINARY)\n",
    "\n",
    "cv2.imshow('image', img)\n",
    "cv2.imshow('threshold', threshold)\n",
    "cv2.waitKey(0)\n",
    "cv2.destroyAllWindows()"
   ]
  },
  {
   "cell_type": "code",
   "execution_count": 4,
   "id": "3c79e5d2",
   "metadata": {
    "ExecuteTime": {
     "end_time": "2021-08-15T05:05:53.716712Z",
     "start_time": "2021-08-15T05:05:51.699641Z"
    }
   },
   "outputs": [],
   "source": [
    "#applying threshold on grayscale\n",
    "\n",
    "grayscaled = cv2.cvtColor(img, cv2.COLOR_BGR2GRAY)\n",
    "retval2, threshold2 = cv2.threshold(grayscaled, 12, 255, cv2.THRESH_BINARY)\n",
    "\n",
    "cv2.imshow('image', img)\n",
    "cv2.imshow('threshold2', threshold2)\n",
    "\n",
    "cv2.waitKey(0)\n",
    "cv2.destroyAllWindows()"
   ]
  },
  {
   "cell_type": "code",
   "execution_count": 5,
   "id": "8fd23223",
   "metadata": {
    "ExecuteTime": {
     "end_time": "2021-08-15T05:05:56.427162Z",
     "start_time": "2021-08-15T05:05:53.718707Z"
    }
   },
   "outputs": [],
   "source": [
    "#applying gaussian-threshold on grayscale\n",
    "\n",
    "grayscaled = cv2.cvtColor(img, cv2.COLOR_BGR2GRAY)\n",
    "gaus = cv2.adaptiveThreshold(grayscaled, 255, cv2.ADAPTIVE_THRESH_GAUSSIAN_C, cv2.THRESH_BINARY, 115, 1)\n",
    "\n",
    "cv2.imshow('gaus-threshold', gaus)\n",
    "cv2.imshow('threshold2', threshold2)\n",
    "\n",
    "cv2.waitKey(0)\n",
    "cv2.destroyAllWindows()"
   ]
  },
  {
   "cell_type": "markdown",
   "id": "53bbcf61",
   "metadata": {
    "ExecuteTime": {
     "end_time": "2021-08-14T17:33:51.325960Z",
     "start_time": "2021-08-14T17:33:51.301988Z"
    }
   },
   "source": [
    "### Applying filter"
   ]
  },
  {
   "cell_type": "code",
   "execution_count": 6,
   "id": "f977645b",
   "metadata": {
    "ExecuteTime": {
     "end_time": "2021-08-15T05:06:07.514277Z",
     "start_time": "2021-08-15T05:05:56.432148Z"
    }
   },
   "outputs": [],
   "source": [
    "cap = cv2.VideoCapture(0)\n",
    "\n",
    "while True:\n",
    "    _, frame = cap.read()\n",
    "    hsv = cv2.cvtColor(frame, cv2.COLOR_BGR2HSV)\n",
    "    \n",
    "    #set the values here to apply specific filter, so specific colour is passed and seen.\n",
    "    lower_red = np.array([10, 10, 10])\n",
    "    upper_red = np.array([150, 175, 175])\n",
    "    \n",
    "    #creating mask\n",
    "    mask = cv2.inRange(hsv, lower_red, upper_red)\n",
    "    res = cv2.bitwise_and(frame, frame, mask=mask)\n",
    "                         \n",
    "    cv2.imshow('frame', frame)\n",
    "    cv2.imshow('mask', mask)\n",
    "    cv2.imshow('res', res)\n",
    "    \n",
    "    if cv2.waitKey(1) & 0xFF == ord('q'):\n",
    "        break\n",
    "        \n",
    "cap.release()\n",
    "cv2.destroyAllWindows()"
   ]
  },
  {
   "cell_type": "markdown",
   "id": "5793b7fe",
   "metadata": {},
   "source": [
    "### Applying smoothing"
   ]
  },
  {
   "cell_type": "code",
   "execution_count": 10,
   "id": "f7f3aaaa",
   "metadata": {
    "ExecuteTime": {
     "end_time": "2021-08-15T05:08:25.315746Z",
     "start_time": "2021-08-15T05:08:18.681039Z"
    }
   },
   "outputs": [],
   "source": [
    "cap = cv2.VideoCapture(0)\n",
    "\n",
    "while True:\n",
    "    _, frame = cap.read()\n",
    "    hsv = cv2.cvtColor(frame, cv2.COLOR_BGR2HSV)\n",
    "    \n",
    "    #set the values here to apply specific filter, so specific colour is passed and seen.\n",
    "    lower_color = np.array([150, 150, 0])\n",
    "    upper_color = np.array([180, 255, 255])\n",
    "    \n",
    "    #creating mask\n",
    "    mask = cv2.inRange(hsv, lower_color, upper_color)\n",
    "    res = cv2.bitwise_and(frame, frame, mask=mask)\n",
    "    \n",
    "    kernel = np.ones((15, 15), np.float32) / 255    #finding average of 15*15 pixels, hence divided by 255\n",
    "    smoothed = cv2.filter2D(res, -1, kernel)\n",
    "                         \n",
    "    cv2.imshow('frame', frame)\n",
    "    cv2.imshow('mask', mask)\n",
    "    cv2.imshow('smoothed', smoothed)\n",
    "    cv2.imshow('res', res)\n",
    "    \n",
    "    if cv2.waitKey(1) & 0xFF == ord('q'):\n",
    "        break\n",
    "        \n",
    "cap.release()\n",
    "cv2.destroyAllWindows()"
   ]
  },
  {
   "cell_type": "markdown",
   "id": "94e1745e",
   "metadata": {},
   "source": [
    "### Applying gaussian blur"
   ]
  },
  {
   "cell_type": "code",
   "execution_count": 12,
   "id": "6b3a298b",
   "metadata": {
    "ExecuteTime": {
     "end_time": "2021-08-15T06:25:44.689668Z",
     "start_time": "2021-08-15T06:25:42.573415Z"
    }
   },
   "outputs": [],
   "source": [
    "cap = cv2.VideoCapture(0)\n",
    "\n",
    "while True:\n",
    "    _, frame = cap.read()\n",
    "    hsv = cv2.cvtColor(frame, cv2.COLOR_BGR2HSV)\n",
    "    \n",
    "    #set the values here to apply specific filter, so specific colour is passed and seen.\n",
    "    lower_color = np.array([150, 150, 0])\n",
    "    upper_color = np.array([180, 255, 255])\n",
    "    \n",
    "    #creating mask\n",
    "    mask = cv2.inRange(hsv, lower_color, upper_color)    \n",
    "    res = cv2.bitwise_and(frame, frame, mask=mask)\n",
    "    \n",
    "    g_blur = cv2.GaussianBlur(res, (15, 15), 0)\n",
    "    \n",
    "    cv2.imshow('frame', frame)\n",
    "    cv2.imshow('mask', mask)\n",
    "    cv2.imshow('blur', g_blur)\n",
    "    \n",
    "    if cv2.waitKey(1) & 0xFF == ord('q'):\n",
    "        break\n",
    "        \n",
    "cap.release()\n",
    "cv2.destroyAllWindows()"
   ]
  },
  {
   "cell_type": "markdown",
   "id": "c0e013c0",
   "metadata": {},
   "source": [
    "### Applying median blur"
   ]
  },
  {
   "cell_type": "code",
   "execution_count": 13,
   "id": "4513ff86",
   "metadata": {
    "ExecuteTime": {
     "end_time": "2021-08-15T06:27:09.216237Z",
     "start_time": "2021-08-15T06:27:01.812167Z"
    }
   },
   "outputs": [],
   "source": [
    "cap = cv2.VideoCapture(0)\n",
    "\n",
    "while True:\n",
    "    _, frame = cap.read()\n",
    "    hsv = cv2.cvtColor(frame, cv2.COLOR_BGR2HSV)\n",
    "    \n",
    "    #set the values here to apply specific filter, so specific colour is passed and seen.\n",
    "    lower_color = np.array([150, 150, 0])\n",
    "    upper_color = np.array([180, 255, 255])\n",
    "    \n",
    "    #creating mask\n",
    "    mask = cv2.inRange(hsv, lower_color, upper_color)    \n",
    "    res = cv2.bitwise_and(frame, frame, mask=mask)\n",
    "    \n",
    "    median_blur = cv2.medianBlur(res, 15)\n",
    "    \n",
    "    cv2.imshow('frame', frame)\n",
    "    cv2.imshow('mask', mask)\n",
    "    cv2.imshow('median blur', median_blur)\n",
    "    \n",
    "    if cv2.waitKey(1) & 0xFF == ord('q'):\n",
    "        break\n",
    "        \n",
    "cap.release()\n",
    "cv2.destroyAllWindows()"
   ]
  },
  {
   "cell_type": "markdown",
   "id": "fe05049f",
   "metadata": {},
   "source": [
    "### Applying bilateral blur"
   ]
  },
  {
   "cell_type": "code",
   "execution_count": 15,
   "id": "115dea0a",
   "metadata": {
    "ExecuteTime": {
     "end_time": "2021-08-15T06:29:24.788429Z",
     "start_time": "2021-08-15T06:29:18.745905Z"
    }
   },
   "outputs": [],
   "source": [
    "cap = cv2.VideoCapture(0)\n",
    "\n",
    "while True:\n",
    "    _, frame = cap.read()\n",
    "    hsv = cv2.cvtColor(frame, cv2.COLOR_BGR2HSV)\n",
    "    \n",
    "    #set the values here to apply specific filter, so specific colour is passed and seen.\n",
    "    lower_color = np.array([150, 150, 0])\n",
    "    upper_color = np.array([180, 255, 255])\n",
    "    \n",
    "    #creating mask\n",
    "    mask = cv2.inRange(hsv, lower_color, upper_color)    \n",
    "    res = cv2.bitwise_and(frame, frame, mask=mask)\n",
    "    \n",
    "    bilateral_blur = cv2.bilateralFilter(res, 15, 75, 75)\n",
    "    \n",
    "    cv2.imshow('frame', frame)\n",
    "    cv2.imshow('mask', mask)\n",
    "    cv2.imshow('bilateral blur', bilateral_blur)\n",
    "    \n",
    "    if cv2.waitKey(1) & 0xFF == ord('q'):\n",
    "        break\n",
    "        \n",
    "cap.release()\n",
    "cv2.destroyAllWindows()"
   ]
  },
  {
   "cell_type": "markdown",
   "id": "a535fec7",
   "metadata": {},
   "source": [
    "#### Above were different types of mask and blur you can create, you can choose any according to your need."
   ]
  },
  {
   "cell_type": "code",
   "execution_count": 16,
   "id": "1d3e4c99",
   "metadata": {
    "ExecuteTime": {
     "end_time": "2021-08-15T06:34:34.928745Z",
     "start_time": "2021-08-15T06:34:27.741430Z"
    }
   },
   "outputs": [],
   "source": [
    "# apllying all the technique seen above, so to really distinguish between them\n",
    "\n",
    "cap = cv2.VideoCapture(0)\n",
    "\n",
    "while True:\n",
    "    _, frame = cap.read()\n",
    "    hsv = cv2.cvtColor(frame, cv2.COLOR_BGR2HSV)\n",
    "    \n",
    "    #set the values here to apply specific filter, so specific colour is passed and seen.\n",
    "    lower_color = np.array([150, 150, 0])\n",
    "    upper_color = np.array([180, 255, 255])\n",
    "    \n",
    "    #creating mask\n",
    "    mask = cv2.inRange(hsv, lower_color, upper_color)    \n",
    "    res = cv2.bitwise_and(frame, frame, mask=mask)\n",
    "    \n",
    "    kernel = np.ones((15, 15), np.float32) / 255    #finding average of 15*15 pixels, hence divided by 255\n",
    "    smoothed = cv2.filter2D(res, -1, kernel)\n",
    "    g_blur = cv2.GaussianBlur(res, (15, 15), 0)\n",
    "    median_blur = cv2.medianBlur(res, 15)\n",
    "    bilateral_blur = cv2.bilateralFilter(res, 15, 75, 75)\n",
    "    \n",
    "    cv2.imshow('frame', frame)\n",
    "    cv2.imshow('mask', mask)\n",
    "    cv2.imshow('res', res)\n",
    "    cv2.imshow('smoothed', smoothed)\n",
    "    cv2.imshow('g_blur', g_blur)\n",
    "    cv2.imshow('median blur', median_blur)\n",
    "    cv2.imshow('bilateral blur', bilateral_blur)\n",
    "    \n",
    "    if cv2.waitKey(1) & 0xFF == ord('q'):\n",
    "        break\n",
    "        \n",
    "cap.release()\n",
    "cv2.destroyAllWindows()"
   ]
  },
  {
   "cell_type": "code",
   "execution_count": null,
   "id": "ac3b5ce0",
   "metadata": {},
   "outputs": [],
   "source": []
  }
 ],
 "metadata": {
  "kernelspec": {
   "display_name": "Python 3",
   "language": "python",
   "name": "python3"
  },
  "language_info": {
   "codemirror_mode": {
    "name": "ipython",
    "version": 3
   },
   "file_extension": ".py",
   "mimetype": "text/x-python",
   "name": "python",
   "nbconvert_exporter": "python",
   "pygments_lexer": "ipython3",
   "version": "3.8.8"
  }
 },
 "nbformat": 4,
 "nbformat_minor": 5
}
