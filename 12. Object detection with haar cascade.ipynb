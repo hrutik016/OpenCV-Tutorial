{
 "cells": [
  {
   "cell_type": "markdown",
   "id": "39de40bf",
   "metadata": {},
   "source": [
    "# OpenCV Tutorial"
   ]
  },
  {
   "cell_type": "code",
   "execution_count": 1,
   "id": "a3880024",
   "metadata": {
    "ExecuteTime": {
     "end_time": "2021-08-19T06:28:04.707353Z",
     "start_time": "2021-08-19T06:28:04.491856Z"
    }
   },
   "outputs": [],
   "source": [
    "import cv2\n",
    "import numpy as np"
   ]
  },
  {
   "cell_type": "markdown",
   "id": "d50b19e3",
   "metadata": {},
   "source": [
    "### Object Detection"
   ]
  },
  {
   "cell_type": "code",
   "execution_count": 2,
   "id": "07f40e57",
   "metadata": {
    "ExecuteTime": {
     "end_time": "2021-08-19T06:28:04.754920Z",
     "start_time": "2021-08-19T06:28:04.709271Z"
    }
   },
   "outputs": [],
   "source": [
    "#loading the cascade\n",
    "\n",
    "face_cascade = cv2.CascadeClassifier(r'D:\\hrutik\\B.Tech\\Projects\\Open CV\\DIP images\\haarcascade_frontalcatface.xml')\n",
    "\n",
    "eye_cascade = cv2.CascadeClassifier(r'D:\\hrutik\\B.Tech\\Projects\\Open CV\\DIP images\\haarcascade_eye.xml')"
   ]
  },
  {
   "cell_type": "code",
   "execution_count": 3,
   "id": "8d0b2154",
   "metadata": {
    "ExecuteTime": {
     "end_time": "2021-08-19T06:28:41.631172Z",
     "start_time": "2021-08-19T06:28:04.757913Z"
    }
   },
   "outputs": [],
   "source": [
    "cap = cv2.VideoCapture(0)\n",
    "\n",
    "while True:\n",
    "    rep, img = cap.read()\n",
    "    gray = cv2.cvtColor(img, cv2.COLOR_BGR2GRAY)\n",
    "    faces = face_cascade.detectMultiScale(gray)\n",
    "    \n",
    "    for (x,y,w,h) in faces:\n",
    "        cv2.rectangle(img, (x,y), (x+w, y+h), (255, 0, 0), 2)\n",
    "        \n",
    "        #since we dont want to find eye outside the face\n",
    "        roi_gray = gray[y:y+h, x:x+w]\n",
    "        roi_color = img[y:y+h, x:x+w]\n",
    "        \n",
    "        eyes = eye_cascade.detectMultiScale(roi_gray)\n",
    "        \n",
    "        for(ex, ey, ew, eh) in eyes:\n",
    "            cv2.rectangle(roi_color, (ex, ey), (ex+ew, ey+eh), (0, 255, 0), 2)\n",
    "            \n",
    "    cv2.imshow('img', img)\n",
    "    if cv2.waitKey(1) & 0xFF == ord('q'):\n",
    "        break\n",
    "        \n",
    "cap.release()\n",
    "cv2.destroyAllWindows()"
   ]
  }
 ],
 "metadata": {
  "kernelspec": {
   "display_name": "Python 3",
   "language": "python",
   "name": "python3"
  },
  "language_info": {
   "codemirror_mode": {
    "name": "ipython",
    "version": 3
   },
   "file_extension": ".py",
   "mimetype": "text/x-python",
   "name": "python",
   "nbconvert_exporter": "python",
   "pygments_lexer": "ipython3",
   "version": "3.8.8"
  }
 },
 "nbformat": 4,
 "nbformat_minor": 5
}
