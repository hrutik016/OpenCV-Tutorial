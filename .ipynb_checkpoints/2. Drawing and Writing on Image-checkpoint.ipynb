{
 "cells": [
  {
   "cell_type": "markdown",
   "id": "6db9a39d",
   "metadata": {},
   "source": [
    "# Open CV Tutorial"
   ]
  },
  {
   "cell_type": "code",
   "execution_count": 1,
   "id": "237bf006",
   "metadata": {
    "ExecuteTime": {
     "end_time": "2021-08-14T09:51:46.221852Z",
     "start_time": "2021-08-14T09:51:46.069569Z"
    }
   },
   "outputs": [],
   "source": [
    "import cv2\n",
    "import numpy as np"
   ]
  },
  {
   "cell_type": "code",
   "execution_count": 2,
   "id": "2877ac20",
   "metadata": {
    "ExecuteTime": {
     "end_time": "2021-08-14T09:51:48.102468Z",
     "start_time": "2021-08-14T09:51:46.223161Z"
    }
   },
   "outputs": [],
   "source": [
    "img = cv2.imread(r'D:\\hrutik\\Wallpapers\\DIP\\1.jpg', 1)\n",
    "\n",
    "cv2.imshow('image', img)\n",
    "cv2.waitKey(0)\n",
    "cv2.destroyAllWindows()"
   ]
  },
  {
   "cell_type": "markdown",
   "id": "802afcec",
   "metadata": {},
   "source": [
    "#### drawing a line on image"
   ]
  },
  {
   "cell_type": "code",
   "execution_count": 3,
   "id": "6fa0d33c",
   "metadata": {
    "ExecuteTime": {
     "end_time": "2021-08-14T09:51:48.753944Z",
     "start_time": "2021-08-14T09:51:48.107461Z"
    }
   },
   "outputs": [],
   "source": [
    "# cv2.line(img, (Staring coordinates), (ending cordinates), (BGR color values), pixel width) \n",
    "\n",
    "cv2.line(img, (0, 0), (350, 350), (0, 0, 0), 15) #BGR\n",
    "\n",
    "cv2.imshow('image', img)\n",
    "cv2.waitKey(0)\n",
    "cv2.destroyAllWindows()"
   ]
  },
  {
   "cell_type": "markdown",
   "id": "29829334",
   "metadata": {},
   "source": [
    "### drawing a rectangle"
   ]
  },
  {
   "cell_type": "code",
   "execution_count": 4,
   "id": "21106b25",
   "metadata": {
    "ExecuteTime": {
     "end_time": "2021-08-14T09:51:49.315603Z",
     "start_time": "2021-08-14T09:51:48.756817Z"
    }
   },
   "outputs": [],
   "source": [
    "# cv2.rectangle(img, (top-left coordinates), (bottom right coordinates), (BGR color values), pixel width)\n",
    "\n",
    "cv2.rectangle(img, (50, 50), (500, 300), (0, 255, 0), 10)\n",
    "\n",
    "cv2.imshow('image', img)\n",
    "cv2.waitKey(0)\n",
    "cv2.destroyAllWindows()"
   ]
  },
  {
   "cell_type": "markdown",
   "id": "da8a8efa",
   "metadata": {},
   "source": [
    "### drawing a cricle"
   ]
  },
  {
   "cell_type": "code",
   "execution_count": 5,
   "id": "7039ad26",
   "metadata": {
    "ExecuteTime": {
     "end_time": "2021-08-14T09:51:49.887860Z",
     "start_time": "2021-08-14T09:51:49.317599Z"
    }
   },
   "outputs": [],
   "source": [
    "# cv2.circle(img, (center coordinates), radius, (BGR color values), pixel width/ -1 to fill the circle)\n",
    "\n",
    "cv2.circle(img, (220, 220), 60, (0, 0, 255), 7)\n",
    "\n",
    "cv2.imshow('image', img)\n",
    "cv2.waitKey(0)\n",
    "cv2.destroyAllWindows()"
   ]
  },
  {
   "cell_type": "code",
   "execution_count": 6,
   "id": "c20afd70",
   "metadata": {
    "ExecuteTime": {
     "end_time": "2021-08-14T09:51:50.448714Z",
     "start_time": "2021-08-14T09:51:49.889849Z"
    }
   },
   "outputs": [],
   "source": [
    "# cv2.circle(img, (center coordinates), radius, (BGR color values), pixel width/ -1 to fill the circle)\n",
    "\n",
    "cv2.circle(img, (220, 220), 60, (0, 0, 255), -1)\n",
    "\n",
    "cv2.imshow('image', img)\n",
    "cv2.waitKey(0)\n",
    "cv2.destroyAllWindows()"
   ]
  },
  {
   "cell_type": "markdown",
   "id": "4d497383",
   "metadata": {},
   "source": [
    "### drawing a polygon"
   ]
  },
  {
   "cell_type": "code",
   "execution_count": 7,
   "id": "c51eb18f",
   "metadata": {
    "ExecuteTime": {
     "end_time": "2021-08-14T09:51:51.259597Z",
     "start_time": "2021-08-14T09:51:50.450710Z"
    }
   },
   "outputs": [],
   "source": [
    "pts = np.array([[10,5], [100,120], [20,100], [312, 441]], np.int32)\n",
    "\n",
    "#pts = pts.reshape((-1,1,2))\n",
    "\n",
    "cv2.polylines(img, [pts], True, (0, 255, 255), 3) # True here indicates that the startig and the ending point must be connected\n",
    "\n",
    "cv2.imshow('image', img)\n",
    "cv2.waitKey(0)\n",
    "cv2.destroyAllWindows()"
   ]
  },
  {
   "cell_type": "markdown",
   "id": "669b2d7b",
   "metadata": {},
   "source": [
    "### Writing on an image"
   ]
  },
  {
   "cell_type": "code",
   "execution_count": 8,
   "id": "19bea31e",
   "metadata": {
    "ExecuteTime": {
     "end_time": "2021-08-14T09:51:52.190151Z",
     "start_time": "2021-08-14T09:51:51.262585Z"
    }
   },
   "outputs": [],
   "source": [
    "# cv2.putText(img, 'test', (coordinates), font_style, font_size, (color values), thickness, cv2.LINE_AA)\n",
    "\n",
    "font = cv2.FONT_HERSHEY_SIMPLEX\n",
    "cv2.putText(img, 'Open CV', (350, 350), font, 1, (200, 150, 150), 2, cv2.LINE_AA)\n",
    "\n",
    "cv2.imshow('image', img)\n",
    "cv2.waitKey(0)\n",
    "cv2.destroyAllWindows()"
   ]
  }
 ],
 "metadata": {
  "kernelspec": {
   "display_name": "Python 3",
   "language": "python",
   "name": "python3"
  },
  "language_info": {
   "codemirror_mode": {
    "name": "ipython",
    "version": 3
   },
   "file_extension": ".py",
   "mimetype": "text/x-python",
   "name": "python",
   "nbconvert_exporter": "python",
   "pygments_lexer": "ipython3",
   "version": "3.8.8"
  }
 },
 "nbformat": 4,
 "nbformat_minor": 5
}
