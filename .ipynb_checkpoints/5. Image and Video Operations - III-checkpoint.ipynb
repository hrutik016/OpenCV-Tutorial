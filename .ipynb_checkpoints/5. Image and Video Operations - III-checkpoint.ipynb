{
 "cells": [
  {
   "cell_type": "markdown",
   "id": "ec3bfd40",
   "metadata": {},
   "source": [
    "# OpenCV Tutorial"
   ]
  },
  {
   "cell_type": "code",
   "execution_count": 1,
   "id": "cee56974",
   "metadata": {
    "ExecuteTime": {
     "end_time": "2021-08-15T06:46:51.774072Z",
     "start_time": "2021-08-15T06:46:51.619161Z"
    }
   },
   "outputs": [],
   "source": [
    "import cv2\n",
    "import numpy as np"
   ]
  },
  {
   "cell_type": "markdown",
   "id": "a86c3f96",
   "metadata": {},
   "source": [
    "### Apllying Erosion"
   ]
  },
  {
   "cell_type": "code",
   "execution_count": 3,
   "id": "2c5a32de",
   "metadata": {
    "ExecuteTime": {
     "end_time": "2021-08-15T06:47:27.662871Z",
     "start_time": "2021-08-15T06:47:21.196071Z"
    }
   },
   "outputs": [],
   "source": [
    "cap = cv2.VideoCapture(0)\n",
    "\n",
    "while True:\n",
    "    _, frame = cap.read()\n",
    "    hsv = cv2.cvtColor(frame, cv2.COLOR_BGR2HSV)\n",
    "    \n",
    "    #set the values here to apply specific filter, so specific colour is passed and seen.\n",
    "    #hsv hue sat value\n",
    "    lower_red = np.array([10, 10, 10])\n",
    "    upper_red = np.array([150, 175, 175])\n",
    "    \n",
    "    #creating mask\n",
    "    mask = cv2.inRange(hsv, lower_red, upper_red)\n",
    "    res = cv2.bitwise_and(frame, frame, mask=mask)\n",
    "    \n",
    "    kernel = np.ones((5,5), np.uint8)\n",
    "    erosion = cv2.erode(mask, kernel, iterations=1)\n",
    "                         \n",
    "    cv2.imshow('frame', frame)\n",
    "    cv2.imshow('res', res)\n",
    "    cv2.imshow('erosion', erosion)\n",
    "    \n",
    "    if cv2.waitKey(1) & 0xFF == ord('q'):\n",
    "        break\n",
    "        \n",
    "cap.release()\n",
    "cv2.destroyAllWindows()"
   ]
  },
  {
   "cell_type": "markdown",
   "id": "6a341810",
   "metadata": {},
   "source": [
    "### Applying Dilation"
   ]
  },
  {
   "cell_type": "code",
   "execution_count": 4,
   "id": "165678bf",
   "metadata": {
    "ExecuteTime": {
     "end_time": "2021-08-15T06:48:47.979473Z",
     "start_time": "2021-08-15T06:48:40.492505Z"
    }
   },
   "outputs": [],
   "source": [
    "cap = cv2.VideoCapture(0)\n",
    "\n",
    "while True:\n",
    "    _, frame = cap.read()\n",
    "    hsv = cv2.cvtColor(frame, cv2.COLOR_BGR2HSV)\n",
    "    \n",
    "    #set the values here to apply specific filter, so specific colour is passed and seen.\n",
    "    #hsv hue sat value\n",
    "    lower_red = np.array([10, 10, 10])\n",
    "    upper_red = np.array([150, 175, 175])\n",
    "    \n",
    "    #creating mask\n",
    "    mask = cv2.inRange(hsv, lower_red, upper_red)\n",
    "    res = cv2.bitwise_and(frame, frame, mask=mask)\n",
    "    \n",
    "    kernel = np.ones((5,5), np.uint8)\n",
    "    dilation = cv2.dilate(mask, kernel, iterations=1)\n",
    "                         \n",
    "    cv2.imshow('frame', frame)\n",
    "    cv2.imshow('res', res)\n",
    "    cv2.imshow('dilation', dilation)\n",
    "    \n",
    "    if cv2.waitKey(1) & 0xFF == ord('q'):\n",
    "        break\n",
    "        \n",
    "cap.release()\n",
    "cv2.destroyAllWindows()"
   ]
  },
  {
   "cell_type": "code",
   "execution_count": 5,
   "id": "56cc706a",
   "metadata": {
    "ExecuteTime": {
     "end_time": "2021-08-15T06:49:47.757568Z",
     "start_time": "2021-08-15T06:49:37.374269Z"
    }
   },
   "outputs": [],
   "source": [
    "# erosion and dilation side by side\n",
    "\n",
    "cap = cv2.VideoCapture(0)\n",
    "\n",
    "while True:\n",
    "    _, frame = cap.read()\n",
    "    hsv = cv2.cvtColor(frame, cv2.COLOR_BGR2HSV)\n",
    "    \n",
    "    #set the values here to apply specific filter, so specific colour is passed and seen.\n",
    "    #hsv hue sat value\n",
    "    lower_red = np.array([10, 10, 10])\n",
    "    upper_red = np.array([150, 175, 175])\n",
    "    \n",
    "    #creating mask\n",
    "    mask = cv2.inRange(hsv, lower_red, upper_red)\n",
    "    res = cv2.bitwise_and(frame, frame, mask=mask)\n",
    "    \n",
    "    kernel = np.ones((5,5), np.uint8)\n",
    "    erosion = cv2.erode(mask, kernel, iterations=1)\n",
    "    dilation = cv2.dilate(mask, kernel, iterations=1)\n",
    "                         \n",
    "    #cv2.imshow('frame', frame)\n",
    "    #cv2.imshow('res', res)\n",
    "    cv2.imshow('erosion', erosion)\n",
    "    cv2.imshow('dilation', dilation)\n",
    "    \n",
    "    if cv2.waitKey(1) & 0xFF == ord('q'):\n",
    "        break\n",
    "        \n",
    "cap.release()\n",
    "cv2.destroyAllWindows()"
   ]
  },
  {
   "cell_type": "markdown",
   "id": "cb2422f2",
   "metadata": {},
   "source": [
    "### Opening & Closing\n",
    "##### Opening - remove stuff from bg / false positive\n",
    "##### Closing - false negative"
   ]
  },
  {
   "cell_type": "code",
   "execution_count": 6,
   "id": "18fc74d3",
   "metadata": {
    "ExecuteTime": {
     "end_time": "2021-08-15T06:56:08.816659Z",
     "start_time": "2021-08-15T06:56:02.587411Z"
    }
   },
   "outputs": [],
   "source": [
    "cap = cv2.VideoCapture(0)\n",
    "\n",
    "while True:\n",
    "    _, frame = cap.read()\n",
    "    hsv = cv2.cvtColor(frame, cv2.COLOR_BGR2HSV)\n",
    "    \n",
    "    #set the values here to apply specific filter, so specific colour is passed and seen.\n",
    "    #hsv hue sat value\n",
    "    lower_red = np.array([10, 10, 10])\n",
    "    upper_red = np.array([150, 175, 175])\n",
    "    \n",
    "    #creating mask\n",
    "    mask = cv2.inRange(hsv, lower_red, upper_red)\n",
    "    res = cv2.bitwise_and(frame, frame, mask=mask)\n",
    "    \n",
    "    kernel = np.ones((5,5), np.uint8)\n",
    "    \n",
    "    opening = cv2.morphologyEx(mask, cv2.MORPH_OPEN, kernel)\n",
    "    closing = cv2.morphologyEx(mask, cv2.MORPH_CLOSE, kernel)\n",
    "                         \n",
    "    cv2.imshow('opening', opening)\n",
    "    cv2.imshow('closing', closing)\n",
    "    \n",
    "    if cv2.waitKey(1) & 0xFF == ord('q'):\n",
    "        break\n",
    "        \n",
    "cap.release()\n",
    "cv2.destroyAllWindows()"
   ]
  },
  {
   "cell_type": "code",
   "execution_count": null,
   "id": "543c166c",
   "metadata": {},
   "outputs": [],
   "source": []
  },
  {
   "cell_type": "code",
   "execution_count": null,
   "id": "2be2e88b",
   "metadata": {},
   "outputs": [],
   "source": []
  },
  {
   "cell_type": "code",
   "execution_count": null,
   "id": "1d384cdb",
   "metadata": {},
   "outputs": [],
   "source": []
  }
 ],
 "metadata": {
  "kernelspec": {
   "display_name": "Python 3",
   "language": "python",
   "name": "python3"
  },
  "language_info": {
   "codemirror_mode": {
    "name": "ipython",
    "version": 3
   },
   "file_extension": ".py",
   "mimetype": "text/x-python",
   "name": "python",
   "nbconvert_exporter": "python",
   "pygments_lexer": "ipython3",
   "version": "3.8.8"
  }
 },
 "nbformat": 4,
 "nbformat_minor": 5
}
