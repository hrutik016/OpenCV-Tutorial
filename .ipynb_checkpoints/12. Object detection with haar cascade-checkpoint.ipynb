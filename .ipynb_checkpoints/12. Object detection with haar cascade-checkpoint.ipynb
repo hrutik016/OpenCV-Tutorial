{
 "cells": [
  {
   "cell_type": "markdown",
   "id": "3b894363",
   "metadata": {},
   "source": [
    "# OpenCV Tutorial"
   ]
  },
  {
   "cell_type": "code",
   "execution_count": null,
   "id": "5b35ed21",
   "metadata": {
    "ExecuteTime": {
     "end_time": "2021-08-19T05:42:05.002861Z",
     "start_time": "2021-08-19T05:42:04.778012Z"
    }
   },
   "outputs": [],
   "source": [
    "import cv2\n",
    "import numpy as np"
   ]
  },
  {
   "cell_type": "markdown",
   "id": "25510e93",
   "metadata": {},
   "source": [
    "### Object Detection"
   ]
  },
  {
   "cell_type": "code",
   "execution_count": null,
   "id": "32da385d",
   "metadata": {
    "ExecuteTime": {
     "end_time": "2021-08-19T05:42:05.050721Z",
     "start_time": "2021-08-19T05:42:05.004860Z"
    }
   },
   "outputs": [],
   "source": [
    "#loading the cascade\n",
    "\n",
    "face_cascade = cv2.CascadeClassifier(r'D:\\hrutik\\B.Tech\\Projects\\Open CV\\DIP images\\haarcascade_frontalcatface.xml')\n",
    "\n",
    "eye_cascade = cv2.CascadeClassifier(r'D:\\hrutik\\B.Tech\\Projects\\Open CV\\DIP images\\haarcascade_eye.xml')"
   ]
  },
  {
   "cell_type": "code",
   "execution_count": null,
   "id": "35862017",
   "metadata": {
    "ExecuteTime": {
     "end_time": "2021-08-19T05:43:39.385863Z",
     "start_time": "2021-08-19T05:42:05.053712Z"
    }
   },
   "outputs": [],
   "source": [
    "cap = cv2.VideoCapture(0)\n",
    "\n",
    "while True:\n",
    "    rep, img = cap.read()\n",
    "    gray = cv2.cvtColor(img, cv2.COLOR_BGR2GRAY)\n",
    "    faces = face_cascade.detectMultiScale(gray)\n",
    "    \n",
    "    for (x,y,w,h) in faces:\n",
    "        cv2.rectangle(img, (x,y), (x+w, y+h), (255, 0, 0), 2)\n",
    "        \n",
    "        #since we dont want to find eye outside the face\n",
    "        roi_gray = gray[y:y+h, x:x+w]\n",
    "        roi_color = img[y:y+h, x:x+w]\n",
    "        \n",
    "        eyes = eye_cascade.detectMultiScale(roi_gray)\n",
    "        \n",
    "        for(ex, ey, ew, eh) in eyes:\n",
    "            cv2.rectangle(roi_color, (ex, ey), (ex+ew, ey+eh), (0, 255, 0), 2)\n",
    "            \n",
    "    cv2.imshow('img', img)\n",
    "    if cv2.waitKey(1) & 0xFF == ord('q'):\n",
    "        break\n",
    "        \n",
    "cap.release()\n",
    "cv2.destroyAllWindows()"
   ]
  },
  {
   "cell_type": "code",
   "execution_count": null,
   "id": "325104d9",
   "metadata": {},
   "outputs": [],
   "source": []
  },
  {
   "cell_type": "code",
   "execution_count": null,
   "id": "32dd9055",
   "metadata": {},
   "outputs": [],
   "source": []
  },
  {
   "cell_type": "code",
   "execution_count": null,
   "id": "ccf6324c",
   "metadata": {},
   "outputs": [],
   "source": []
  },
  {
   "cell_type": "code",
   "execution_count": null,
   "id": "639ff657",
   "metadata": {},
   "outputs": [],
   "source": []
  },
  {
   "cell_type": "code",
   "execution_count": null,
   "id": "7cd01539",
   "metadata": {},
   "outputs": [],
   "source": []
  }
 ],
 "metadata": {
  "kernelspec": {
   "display_name": "Python 3",
   "language": "python",
   "name": "python3"
  },
  "language_info": {
   "codemirror_mode": {
    "name": "ipython",
    "version": 3
   },
   "file_extension": ".py",
   "mimetype": "text/x-python",
   "name": "python",
   "nbconvert_exporter": "python",
   "pygments_lexer": "ipython3",
   "version": "3.8.8"
  }
 },
 "nbformat": 4,
 "nbformat_minor": 5
}
