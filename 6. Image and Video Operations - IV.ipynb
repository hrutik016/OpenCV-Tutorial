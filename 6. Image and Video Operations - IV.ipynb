{
 "cells": [
  {
   "cell_type": "markdown",
   "id": "dd8c3b8b",
   "metadata": {},
   "source": [
    "# OpenCV Tutorial"
   ]
  },
  {
   "cell_type": "code",
   "execution_count": 4,
   "id": "f305e3ab",
   "metadata": {
    "ExecuteTime": {
     "end_time": "2021-08-15T08:47:45.058263Z",
     "start_time": "2021-08-15T08:47:45.050249Z"
    }
   },
   "outputs": [],
   "source": [
    "import cv2\n",
    "import numpy as np"
   ]
  },
  {
   "cell_type": "markdown",
   "id": "8048083c",
   "metadata": {},
   "source": [
    "## Gradient and Edge Detection"
   ]
  },
  {
   "cell_type": "code",
   "execution_count": 7,
   "id": "84d80850",
   "metadata": {
    "ExecuteTime": {
     "end_time": "2021-08-15T08:56:59.536442Z",
     "start_time": "2021-08-15T08:56:39.401384Z"
    }
   },
   "outputs": [],
   "source": [
    "#laplacian \n",
    "\n",
    "cap = cv2.VideoCapture(0)\n",
    "\n",
    "while True:\n",
    "    _, frame = cap.read()\n",
    "    \n",
    "    laplacian = cv2.Laplacian(frame, cv2.CV_64F)\n",
    "    \n",
    "    cv2.imshow('original', frame)\n",
    "    cv2.imshow('laplacian', laplacian)\n",
    "    \n",
    "    if cv2.waitKey(1) & 0xFF == ord('q'):\n",
    "        break\n",
    "        \n",
    "cap.release()\n",
    "cv2.destroyAllWindows()"
   ]
  },
  {
   "cell_type": "code",
   "execution_count": 8,
   "id": "ec822fe6",
   "metadata": {
    "ExecuteTime": {
     "end_time": "2021-08-15T09:14:55.032007Z",
     "start_time": "2021-08-15T09:14:33.320091Z"
    }
   },
   "outputs": [],
   "source": [
    "#sobel\n",
    "\n",
    "cap = cv2.VideoCapture(0)\n",
    "\n",
    "while True:\n",
    "    _, frame = cap.read()\n",
    "    \n",
    "    sobelx = cv2.Sobel(frame, cv2.CV_64F, 1, 0, ksize=5)\n",
    "    sobely = cv2.Sobel(frame, cv2.CV_64F, 0, 1, ksize=5)\n",
    "\n",
    "    cv2.imshow('original', frame)\n",
    "    cv2.imshow('sobelx', sobelx)\n",
    "    cv2.imshow('sobely', sobely)\n",
    "    \n",
    "    if cv2.waitKey(1) & 0xFF == ord('q'):\n",
    "        break\n",
    "        \n",
    "cap.release()\n",
    "cv2.destroyAllWindows()"
   ]
  },
  {
   "cell_type": "code",
   "execution_count": 10,
   "id": "196216a9",
   "metadata": {
    "ExecuteTime": {
     "end_time": "2021-08-15T09:18:14.291623Z",
     "start_time": "2021-08-15T09:18:08.951571Z"
    }
   },
   "outputs": [],
   "source": [
    "#canny edge detector\n",
    "\n",
    "cap = cv2.VideoCapture(0)\n",
    "\n",
    "while True:\n",
    "    _, frame = cap.read()\n",
    "    \n",
    "    edges = cv2.Canny(frame, 100, 200)\n",
    "\n",
    "    cv2.imshow('original', frame)\n",
    "    cv2.imshow('edges', edges)\n",
    "    \n",
    "    if cv2.waitKey(1) & 0xFF == ord('q'):\n",
    "        break\n",
    "        \n",
    "cap.release()\n",
    "cv2.destroyAllWindows()"
   ]
  },
  {
   "cell_type": "code",
   "execution_count": null,
   "id": "dcdc22a4",
   "metadata": {},
   "outputs": [],
   "source": []
  }
 ],
 "metadata": {
  "kernelspec": {
   "display_name": "Python 3",
   "language": "python",
   "name": "python3"
  },
  "language_info": {
   "codemirror_mode": {
    "name": "ipython",
    "version": 3
   },
   "file_extension": ".py",
   "mimetype": "text/x-python",
   "name": "python",
   "nbconvert_exporter": "python",
   "pygments_lexer": "ipython3",
   "version": "3.8.8"
  }
 },
 "nbformat": 4,
 "nbformat_minor": 5
}
