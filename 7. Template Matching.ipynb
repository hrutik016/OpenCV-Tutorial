{
 "cells": [
  {
   "cell_type": "markdown",
   "id": "43fe0680",
   "metadata": {},
   "source": [
    "# OpenCV Tutorial"
   ]
  },
  {
   "cell_type": "code",
   "execution_count": 1,
   "id": "04123263",
   "metadata": {
    "ExecuteTime": {
     "end_time": "2021-08-15T13:12:00.998854Z",
     "start_time": "2021-08-15T13:12:00.770156Z"
    }
   },
   "outputs": [],
   "source": [
    "import cv2\n",
    "import numpy as np"
   ]
  },
  {
   "cell_type": "markdown",
   "id": "9ba9ec3d",
   "metadata": {},
   "source": [
    "### Template matching"
   ]
  },
  {
   "cell_type": "code",
   "execution_count": 2,
   "id": "a7fc52b9",
   "metadata": {
    "ExecuteTime": {
     "end_time": "2021-08-15T13:12:10.498627Z",
     "start_time": "2021-08-15T13:12:01.001861Z"
    }
   },
   "outputs": [],
   "source": [
    "temp = cv2.imread(r'D:\\hrutik\\Wallpapers\\DIP\\p6.jpg')\n",
    "\n",
    "img = cv2.imread(r'D:\\hrutik\\Wallpapers\\DIP\\p5.jpg')\n",
    "\n",
    "cv2.imshow('temp', temp)\n",
    "cv2.imshow('img', img)\n",
    "cv2.waitKey(0)\n",
    "cv2.destroyAllWindows()"
   ]
  },
  {
   "cell_type": "code",
   "execution_count": 3,
   "id": "c4acf68a",
   "metadata": {
    "ExecuteTime": {
     "end_time": "2021-08-15T13:12:12.762366Z",
     "start_time": "2021-08-15T13:12:10.509598Z"
    }
   },
   "outputs": [],
   "source": [
    "#converting to grayscale\n",
    "\n",
    "img_gray = cv2.cvtColor(img, cv2.COLOR_BGR2GRAY)\n",
    "temp_gray = cv2.cvtColor(temp,cv2.COLOR_BGR2GRAY)\n",
    "\n",
    "cv2.imshow('img_gray', img_gray)\n",
    "cv2.imshow('temp_gray', temp_gray)\n",
    "cv2.waitKey(0)\n",
    "cv2.destroyAllWindows()"
   ]
  },
  {
   "cell_type": "code",
   "execution_count": 5,
   "id": "6e399db8",
   "metadata": {
    "ExecuteTime": {
     "end_time": "2021-08-15T13:12:58.874322Z",
     "start_time": "2021-08-15T13:12:56.935508Z"
    }
   },
   "outputs": [],
   "source": [
    "#taking in height and width of the template\n",
    "w, h = temp_gray.shape[::-1]\n",
    "\n",
    "res = cv2.matchTemplate(img_gray, temp_gray, cv2.TM_CCOEFF_NORMED)\n",
    "threshold = 0.8\n",
    "loc = np.where(res >= threshold)\n",
    "\n",
    "#for plotting a rectangle around the matched area\n",
    "\n",
    "for pt in zip(*loc[::-1]):\n",
    "    cv2.rectangle(img, pt, (pt[0]+w, pt[1]+h), (0,0,255), 2)\n",
    "\n",
    "cv2.imshow('detected', img)\n",
    "cv2.waitKey(0)\n",
    "cv2.destroyAllWindows()"
   ]
  },
  {
   "cell_type": "code",
   "execution_count": 9,
   "id": "108f0d07",
   "metadata": {
    "ExecuteTime": {
     "end_time": "2021-08-15T13:16:22.908369Z",
     "start_time": "2021-08-15T13:16:20.551320Z"
    }
   },
   "outputs": [],
   "source": [
    "w, h = temp_gray.shape[::-1]\n",
    "\n",
    "res = cv2.matchTemplate(img_gray, temp_gray, cv2.TM_CCOEFF_NORMED)\n",
    "\n",
    "threshold = 0.9   # now, try to increase and decrease the threshold value and see the result.\n",
    "\n",
    "loc = np.where(res >= threshold)\n",
    "\n",
    "for pt in zip(*loc[::-1]):\n",
    "    cv2.rectangle(img, pt, (pt[0]+w, pt[1]+h), (0,0,255), 2)\n",
    "\n",
    "cv2.imshow('detected', img)\n",
    "cv2.waitKey(0)\n",
    "cv2.destroyAllWindows()"
   ]
  },
  {
   "cell_type": "code",
   "execution_count": null,
   "id": "ce558692",
   "metadata": {},
   "outputs": [],
   "source": []
  },
  {
   "cell_type": "code",
   "execution_count": null,
   "id": "8344f0a5",
   "metadata": {},
   "outputs": [],
   "source": []
  }
 ],
 "metadata": {
  "kernelspec": {
   "display_name": "Python 3",
   "language": "python",
   "name": "python3"
  },
  "language_info": {
   "codemirror_mode": {
    "name": "ipython",
    "version": 3
   },
   "file_extension": ".py",
   "mimetype": "text/x-python",
   "name": "python",
   "nbconvert_exporter": "python",
   "pygments_lexer": "ipython3",
   "version": "3.8.8"
  }
 },
 "nbformat": 4,
 "nbformat_minor": 5
}
